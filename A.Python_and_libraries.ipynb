{
  "nbformat": 4,
  "nbformat_minor": 0,
  "metadata": {
    "colab": {
      "provenance": []
    },
    "kernelspec": {
      "name": "python3",
      "display_name": "Python 3"
    },
    "language_info": {
      "name": "python"
    }
  },
  "cells": [
    {
      "cell_type": "code",
      "execution_count": null,
      "metadata": {
        "colab": {
          "base_uri": "https://localhost:8080/"
        },
        "id": "WTEhRCzd2UGN",
        "outputId": "9c2288b5-be89-4dd0-d480-1378ad50d931"
      },
      "outputs": [
        {
          "output_type": "stream",
          "name": "stdout",
          "text": [
            "Hello World!\n"
          ]
        }
      ],
      "source": [
        "print(\"Hello World!\")"
      ]
    },
    {
      "cell_type": "markdown",
      "source": [
        "# Checking whether python is primitve type or not"
      ],
      "metadata": {
        "id": "HhgNtcL03nUC"
      }
    },
    {
      "cell_type": "code",
      "source": [
        "a=5\n",
        "b=a\n",
        "a=4\n",
        "print(a)\n",
        "print(b)"
      ],
      "metadata": {
        "colab": {
          "base_uri": "https://localhost:8080/"
        },
        "id": "fjgHx6kX3hzs",
        "outputId": "2f60699d-6627-47d9-f1b9-84a298041583"
      },
      "execution_count": null,
      "outputs": [
        {
          "output_type": "stream",
          "name": "stdout",
          "text": [
            "4\n",
            "5\n"
          ]
        }
      ]
    },
    {
      "cell_type": "code",
      "source": [
        "print(f\"variable a is {a}\")"
      ],
      "metadata": {
        "colab": {
          "base_uri": "https://localhost:8080/"
        },
        "id": "GUd4uTga5HH0",
        "outputId": "1824f5a9-ee07-4628-9bcb-78bfdd264f94"
      },
      "execution_count": null,
      "outputs": [
        {
          "output_type": "stream",
          "name": "stdout",
          "text": [
            "variable a is 4\n"
          ]
        }
      ]
    },
    {
      "cell_type": "markdown",
      "source": [
        "# Operations on String"
      ],
      "metadata": {
        "id": "D_PrNYea5wDB"
      }
    },
    {
      "cell_type": "code",
      "source": [
        "s = \"Long String\"\n",
        "print(s)\n",
        "print(type(s))\n",
        "print(s[-1])\n",
        "print(s[1:5])\n",
        "print(s[5:8])\n",
        "print(s[-3:])\n",
        "print(s[-6:])\n",
        "print(s[3:6])"
      ],
      "metadata": {
        "colab": {
          "base_uri": "https://localhost:8080/"
        },
        "id": "Lzu7a-gG5UhG",
        "outputId": "afad2afa-e088-440e-a292-69ea262afe70"
      },
      "execution_count": null,
      "outputs": [
        {
          "output_type": "stream",
          "name": "stdout",
          "text": [
            "Long String\n",
            "<class 'str'>\n",
            "g\n",
            "ong \n",
            "Str\n",
            "ing\n",
            "String\n",
            "g S\n"
          ]
        }
      ]
    },
    {
      "cell_type": "code",
      "source": [
        "st=\"ABC\"\n",
        "st = s +\" \"+ st\n",
        "print(st)"
      ],
      "metadata": {
        "colab": {
          "base_uri": "https://localhost:8080/"
        },
        "id": "8g5oY8jY56Zi",
        "outputId": "757f357c-eb19-48d9-cb28-c69c401a4ab1"
      },
      "execution_count": null,
      "outputs": [
        {
          "output_type": "stream",
          "name": "stdout",
          "text": [
            "Long String ABC\n"
          ]
        }
      ]
    },
    {
      "cell_type": "markdown",
      "source": [
        "# Operations on List"
      ],
      "metadata": {
        "id": "Gw62DvOT6lUD"
      }
    },
    {
      "cell_type": "code",
      "source": [
        "mylist = [235,'fshkjndsj',9348]\n",
        "print(mylist[1])\n",
        "print(mylist[1][2:6])\n",
        "print(mylist[2])\n",
        "print(mylist[2]*2)\n",
        "print(mylist[0:2]*2)"
      ],
      "metadata": {
        "colab": {
          "base_uri": "https://localhost:8080/"
        },
        "id": "hrXrW8Zc6Zru",
        "outputId": "887109a0-faed-4308-bc9d-e31e07edf33a"
      },
      "execution_count": null,
      "outputs": [
        {
          "output_type": "stream",
          "name": "stdout",
          "text": [
            "fshkjndsj\n",
            "hkjn\n",
            "9348\n",
            "18696\n",
            "[235, 'fshkjndsj', 235, 'fshkjndsj']\n"
          ]
        }
      ]
    },
    {
      "cell_type": "markdown",
      "source": [
        "converting an integer to string as it is"
      ],
      "metadata": {
        "id": "W4XpwRFL6uKs"
      }
    },
    {
      "cell_type": "code",
      "source": [
        "print(str(mylist[0]))\n",
        "print(str(mylist[0])+mylist[1])"
      ],
      "metadata": {
        "colab": {
          "base_uri": "https://localhost:8080/"
        },
        "id": "WXwMwBvK6qMT",
        "outputId": "0b9fd077-c505-4846-d276-cc62fc06adbb"
      },
      "execution_count": null,
      "outputs": [
        {
          "output_type": "stream",
          "name": "stdout",
          "text": [
            "235\n",
            "235fshkjndsj\n"
          ]
        }
      ]
    },
    {
      "cell_type": "markdown",
      "source": [
        "swaping two elements of list"
      ],
      "metadata": {
        "id": "GaeD-Fts7TFe"
      }
    },
    {
      "cell_type": "code",
      "source": [
        "temp=mylist[0]\n",
        "mylist[0]=mylist[1]\n",
        "mylist[1]=temp\n",
        "print(mylist)"
      ],
      "metadata": {
        "colab": {
          "base_uri": "https://localhost:8080/"
        },
        "id": "RZ7d13qS7P9H",
        "outputId": "4bcc082c-0f26-437e-9497-4186a3ddc5bb"
      },
      "execution_count": null,
      "outputs": [
        {
          "output_type": "stream",
          "name": "stdout",
          "text": [
            "['fshkjndsj', 235, 9348]\n"
          ]
        }
      ]
    },
    {
      "cell_type": "markdown",
      "source": [
        "# Operations on Tuple"
      ],
      "metadata": {
        "id": "Em5BY1ub79os"
      }
    },
    {
      "cell_type": "code",
      "source": [
        "mytuple = (3,'fshkjndsj',9348)\n",
        "print(mytuple[0:2])\n",
        "mytuple2 = (235,'finjsc',48993,235)\n",
        "print(mytuple2)\n",
        "print(mytuple2*mytuple[0])"
      ],
      "metadata": {
        "colab": {
          "base_uri": "https://localhost:8080/"
        },
        "id": "iypKeu9k7Y3y",
        "outputId": "ae28d130-c364-42c4-ba5a-a8e027c052f0"
      },
      "execution_count": null,
      "outputs": [
        {
          "output_type": "stream",
          "name": "stdout",
          "text": [
            "(3, 'fshkjndsj')\n",
            "(235, 'finjsc', 48993, 235)\n",
            "(235, 'finjsc', 48993, 235, 235, 'finjsc', 48993, 235, 235, 'finjsc', 48993, 235)\n"
          ]
        }
      ]
    },
    {
      "cell_type": "markdown",
      "source": [
        "# Operations on Set"
      ],
      "metadata": {
        "id": "az58ZZLt8DL-"
      }
    },
    {
      "cell_type": "code",
      "source": [
        "myset = {\"hi\",12,'hello'}\n",
        "print(myset)\n",
        "myset2= {'hi','hi'}\n",
        "print(myset2)\n",
        "myset.add(\"world\")\n",
        "print(myset)"
      ],
      "metadata": {
        "colab": {
          "base_uri": "https://localhost:8080/"
        },
        "id": "pJWSjgL48B70",
        "outputId": "91075e53-7491-4a1c-865b-f2e4bf1264e0"
      },
      "execution_count": null,
      "outputs": [
        {
          "output_type": "stream",
          "name": "stdout",
          "text": [
            "{'hello', 'hi', 12}\n",
            "{'hi'}\n",
            "{'hello', 'world', 'hi', 12}\n"
          ]
        }
      ]
    },
    {
      "cell_type": "markdown",
      "source": [
        "# Operation on Dictionary"
      ],
      "metadata": {
        "id": "-kD6lsmY8VuB"
      }
    },
    {
      "cell_type": "code",
      "source": [
        "mydict = dict()\n",
        "mydict['name']=\"Kenil Patel\"\n",
        "mydict['roll no.']='22BCE252'\n",
        "print(mydict)"
      ],
      "metadata": {
        "colab": {
          "base_uri": "https://localhost:8080/"
        },
        "id": "A1lRWa5F8b-T",
        "outputId": "a28065ae-73c0-44af-8018-3bd480176c01"
      },
      "execution_count": null,
      "outputs": [
        {
          "output_type": "stream",
          "name": "stdout",
          "text": [
            "{'name': 'Kenil Patel', 'roll no.': '22BCE252'}\n"
          ]
        }
      ]
    },
    {
      "cell_type": "markdown",
      "source": [
        "# Logical Operators(and, or, not)"
      ],
      "metadata": {
        "id": "RQMai6o1GR4y"
      }
    },
    {
      "cell_type": "code",
      "source": [
        "a=5\n",
        "b=4\n",
        "print(a>=5 and b>=5)\n",
        "print(a>=5 or b>=5)\n",
        "print(not(a>=5 and b>=5))"
      ],
      "metadata": {
        "colab": {
          "base_uri": "https://localhost:8080/"
        },
        "id": "dMoB4x6EE9ex",
        "outputId": "14d1861d-0cf4-4fad-94ac-530d29e0e2ef"
      },
      "execution_count": null,
      "outputs": [
        {
          "output_type": "stream",
          "name": "stdout",
          "text": [
            "False\n",
            "True\n",
            "True\n"
          ]
        }
      ]
    },
    {
      "cell_type": "code",
      "source": [
        "if 5 and 1:\n",
        "  print(\"True\")\n",
        "else:\n",
        "  print(\"False\")"
      ],
      "metadata": {
        "colab": {
          "base_uri": "https://localhost:8080/"
        },
        "id": "xDYIO7qoGD3_",
        "outputId": "b8bd6323-a891-4aad-9876-3694ab8a253d"
      },
      "execution_count": null,
      "outputs": [
        {
          "output_type": "stream",
          "name": "stdout",
          "text": [
            "True\n"
          ]
        }
      ]
    },
    {
      "cell_type": "markdown",
      "source": [
        "# Membership Operators (in, not in)"
      ],
      "metadata": {
        "id": "vuh2D-edHjio"
      }
    },
    {
      "cell_type": "code",
      "source": [
        "mylist2 = [1,2,3,4,5,6,7,8,9,10]\n",
        "if 4 in mylist2:\n",
        "  print(\"Yes\")\n",
        "if 11 not in mylist2:\n",
        "  print(\"Yes\")\n",
        "if 4 not in mylist2:\n",
        "  print(\"YES\")\n",
        "else:\n",
        "  print(\"No\")"
      ],
      "metadata": {
        "colab": {
          "base_uri": "https://localhost:8080/"
        },
        "id": "KVbXbuTbGvg4",
        "outputId": "012f812f-00ea-4e3b-e8e7-5a67c07f06dd"
      },
      "execution_count": null,
      "outputs": [
        {
          "output_type": "stream",
          "name": "stdout",
          "text": [
            "Yes\n",
            "Yes\n",
            "No\n"
          ]
        }
      ]
    },
    {
      "cell_type": "markdown",
      "source": [
        "# Identity Operators(is, is not)"
      ],
      "metadata": {
        "id": "kLeu2FrjI-DD"
      }
    },
    {
      "cell_type": "code",
      "source": [
        "s1=\"Hello\"\n",
        "s2=\"Hello\"\n",
        "print(s1 is s2)\n",
        "s2=\"hello\"\n",
        "print(s1 is s2)\n",
        "print(s1 is not s2)"
      ],
      "metadata": {
        "colab": {
          "base_uri": "https://localhost:8080/"
        },
        "id": "Bg7rlTqAIoTx",
        "outputId": "af67baf5-5116-4dae-db15-d41e17fcdafa"
      },
      "execution_count": null,
      "outputs": [
        {
          "output_type": "stream",
          "name": "stdout",
          "text": [
            "True\n",
            "False\n",
            "True\n"
          ]
        }
      ]
    },
    {
      "cell_type": "code",
      "source": [
        "print(s1==s2)\n",
        "print(s1!=s2)"
      ],
      "metadata": {
        "colab": {
          "base_uri": "https://localhost:8080/"
        },
        "id": "UPcN0aenJEJC",
        "outputId": "20963592-0981-4ed6-ce0b-765c50d428ba"
      },
      "execution_count": null,
      "outputs": [
        {
          "output_type": "stream",
          "name": "stdout",
          "text": [
            "False\n",
            "True\n"
          ]
        }
      ]
    },
    {
      "cell_type": "markdown",
      "source": [
        "# loops"
      ],
      "metadata": {
        "id": "mxh6Xl3IOEAA"
      }
    },
    {
      "cell_type": "code",
      "source": [
        "i=1\n",
        "while i<=10:\n",
        "  print(i)\n",
        "  i=i+1"
      ],
      "metadata": {
        "colab": {
          "base_uri": "https://localhost:8080/"
        },
        "id": "KL0Ss7cHKidy",
        "outputId": "5fc4f808-7c60-4823-8496-d2bb23cf577f"
      },
      "execution_count": null,
      "outputs": [
        {
          "output_type": "stream",
          "name": "stdout",
          "text": [
            "1\n",
            "2\n",
            "3\n",
            "4\n",
            "5\n",
            "6\n",
            "7\n",
            "8\n",
            "9\n",
            "10\n"
          ]
        }
      ]
    },
    {
      "cell_type": "code",
      "source": [
        "fruits =[\"apple\", \"banana\", \"cherry\"]\n",
        "for x in fruits:\n",
        "  print(x)"
      ],
      "metadata": {
        "colab": {
          "base_uri": "https://localhost:8080/"
        },
        "id": "VP6Xjgd7LNFH",
        "outputId": "cc466dee-daf3-472f-e5a5-ff8a07ab6a64"
      },
      "execution_count": null,
      "outputs": [
        {
          "output_type": "stream",
          "name": "stdout",
          "text": [
            "apple\n",
            "banana\n",
            "cherry\n"
          ]
        }
      ]
    },
    {
      "cell_type": "code",
      "source": [
        "for i in range(0,len(fruits)):\n",
        "  print(f\"{fruits[i]}, \",end='')"
      ],
      "metadata": {
        "colab": {
          "base_uri": "https://localhost:8080/"
        },
        "id": "UgxsmWj5MObD",
        "outputId": "17715cb7-fc5c-4742-d7fc-a49eff85f272"
      },
      "execution_count": null,
      "outputs": [
        {
          "output_type": "stream",
          "name": "stdout",
          "text": [
            "apple, banana, cherry, "
          ]
        }
      ]
    },
    {
      "cell_type": "code",
      "source": [
        "for letter in \"Python\":\n",
        "  if letter == \"h\":\n",
        "    break\n",
        "  print(letter)"
      ],
      "metadata": {
        "colab": {
          "base_uri": "https://localhost:8080/"
        },
        "id": "1jAcrlN6N0h9",
        "outputId": "af32dfd9-e0f3-4b0e-effe-ca9e6ee69cd0"
      },
      "execution_count": null,
      "outputs": [
        {
          "output_type": "stream",
          "name": "stdout",
          "text": [
            "P\n",
            "y\n",
            "t\n"
          ]
        }
      ]
    },
    {
      "cell_type": "code",
      "source": [
        "mystr=\"Mystring\"\n",
        "for i in range(len(mystr)-1,-1,-1):\n",
        "  print(mystr[i],end='')"
      ],
      "metadata": {
        "colab": {
          "base_uri": "https://localhost:8080/"
        },
        "id": "JrXa8mxzObgv",
        "outputId": "70b060be-9c4f-46be-8d3c-a66bbd827082"
      },
      "execution_count": null,
      "outputs": [
        {
          "output_type": "stream",
          "name": "stdout",
          "text": [
            "gnirtsyM"
          ]
        }
      ]
    },
    {
      "cell_type": "code",
      "source": [
        "for i in range(10):\n",
        "  if i==5:\n",
        "    continue\n",
        "  print(f\"{i},\",end='')"
      ],
      "metadata": {
        "colab": {
          "base_uri": "https://localhost:8080/"
        },
        "id": "dhh1lQM9OwRp",
        "outputId": "cd6498bd-2002-4078-e38c-7672ac9266ff"
      },
      "execution_count": null,
      "outputs": [
        {
          "output_type": "stream",
          "name": "stdout",
          "text": [
            "0,1,2,3,4,6,7,8,9,"
          ]
        }
      ]
    },
    {
      "cell_type": "code",
      "source": [
        "mytuple=(1,2,3,4,5,6,7,8,9,10)\n",
        "for i in mytuple:\n",
        "  if i==5:\n",
        "    continue\n",
        "  print(f\"{i},\",end='')"
      ],
      "metadata": {
        "id": "hCdqgzDgPjGE"
      },
      "execution_count": null,
      "outputs": []
    },
    {
      "cell_type": "code",
      "source": [
        "x=-11\n",
        "print(abs(x))"
      ],
      "metadata": {
        "colab": {
          "base_uri": "https://localhost:8080/"
        },
        "id": "HJDkSxQ7P43m",
        "outputId": "341e5d05-893b-4a49-ab3f-9b06d8cfa7b5"
      },
      "execution_count": null,
      "outputs": [
        {
          "output_type": "stream",
          "name": "stdout",
          "text": [
            "11\n"
          ]
        }
      ]
    },
    {
      "cell_type": "markdown",
      "source": [
        "# inbuilt library math"
      ],
      "metadata": {
        "id": "V4F_t_pPUMgv"
      }
    },
    {
      "cell_type": "code",
      "source": [
        "import math\n",
        "x=9\n",
        "print(math.sqrt(x))\n",
        "print(math.ceil(x))\n",
        "print(math.floor(x))\n",
        "print(math.factorial(x))"
      ],
      "metadata": {
        "colab": {
          "base_uri": "https://localhost:8080/"
        },
        "id": "TxtQddsaQWuu",
        "outputId": "0bd4da30-5779-465e-a3a6-ec49cfe59554"
      },
      "execution_count": null,
      "outputs": [
        {
          "output_type": "stream",
          "name": "stdout",
          "text": [
            "3.0\n",
            "9\n",
            "9\n",
            "362880\n"
          ]
        }
      ]
    },
    {
      "cell_type": "markdown",
      "source": [
        "# numpy"
      ],
      "metadata": {
        "id": "uvwAMhAUUJpf"
      }
    },
    {
      "cell_type": "code",
      "source": [
        "import numpy as np\n"
      ],
      "metadata": {
        "id": "ZVmKLm_BR67h"
      },
      "execution_count": null,
      "outputs": []
    },
    {
      "cell_type": "code",
      "source": [
        "a=np.array([1,4,5,8],float)\n",
        "print(a)\n",
        "type(a)"
      ],
      "metadata": {
        "colab": {
          "base_uri": "https://localhost:8080/"
        },
        "id": "_IZwByo1TJ6G",
        "outputId": "daf21a61-da85-4522-f136-4ccfd2caadd8"
      },
      "execution_count": null,
      "outputs": [
        {
          "output_type": "stream",
          "name": "stdout",
          "text": [
            "[1. 4. 5. 8.]\n"
          ]
        },
        {
          "output_type": "execute_result",
          "data": {
            "text/plain": [
              "numpy.ndarray"
            ]
          },
          "metadata": {},
          "execution_count": 35
        }
      ]
    },
    {
      "cell_type": "code",
      "source": [
        "b=np.array([[1,2,3],[4,5,6],[7,8,9]])\n",
        "print(b[0,0])\n",
        "print(b[1,2])\n",
        "print(b[0,1])\n",
        "print(b[:,1])\n",
        "print(b[-2:,:2])"
      ],
      "metadata": {
        "colab": {
          "base_uri": "https://localhost:8080/"
        },
        "id": "9GDpyelKTijR",
        "outputId": "42d5e03f-ce54-48d2-a455-a8e2ade34b99"
      },
      "execution_count": null,
      "outputs": [
        {
          "output_type": "stream",
          "name": "stdout",
          "text": [
            "1\n",
            "6\n",
            "2\n",
            "[2 5 8]\n",
            "[[4 5]\n",
            " [7 8]]\n"
          ]
        }
      ]
    },
    {
      "cell_type": "code",
      "source": [
        "b.shape"
      ],
      "metadata": {
        "colab": {
          "base_uri": "https://localhost:8080/"
        },
        "id": "V1y6LDoQUUZr",
        "outputId": "8c45dc25-45ee-4dc1-9f2d-0bb39ea757c6"
      },
      "execution_count": null,
      "outputs": [
        {
          "output_type": "execute_result",
          "data": {
            "text/plain": [
              "(3, 3)"
            ]
          },
          "metadata": {},
          "execution_count": 38
        }
      ]
    },
    {
      "cell_type": "code",
      "source": [
        "a=a.reshape(4,1)\n",
        "print(a)"
      ],
      "metadata": {
        "colab": {
          "base_uri": "https://localhost:8080/"
        },
        "id": "UhoVR0N9VAeu",
        "outputId": "af918e90-b314-4bff-d213-c902daf2ee3a"
      },
      "execution_count": null,
      "outputs": [
        {
          "output_type": "stream",
          "name": "stdout",
          "text": [
            "[[1.]\n",
            " [4.]\n",
            " [5.]\n",
            " [8.]]\n"
          ]
        }
      ]
    },
    {
      "cell_type": "code",
      "source": [
        "a=a.reshape(2,2)\n",
        "print(a)"
      ],
      "metadata": {
        "colab": {
          "base_uri": "https://localhost:8080/"
        },
        "id": "_4XBYJrMVmhS",
        "outputId": "d00df098-6686-4201-b295-b5a7f7c28655"
      },
      "execution_count": null,
      "outputs": [
        {
          "output_type": "stream",
          "name": "stdout",
          "text": [
            "[[1. 4.]\n",
            " [5. 8.]]\n"
          ]
        }
      ]
    },
    {
      "cell_type": "markdown",
      "source": [
        "# reshape(), transpose(), flatten()"
      ],
      "metadata": {
        "id": "xG3USHJXW8CF"
      }
    },
    {
      "cell_type": "code",
      "source": [
        "a=np.array(range(8))\n",
        "print(a)\n",
        "a=a.reshape(4,2)\n",
        "print(a)\n",
        "a=a.transpose()\n",
        "print(a)\n",
        "a=a.flatten()\n",
        "print(a)\n",
        "a=a.transpose()\n",
        "print(a)\n",
        "a=a.reshape(8,1)\n",
        "print(a)\n",
        "a=a.transpose()\n",
        "print(a)"
      ],
      "metadata": {
        "colab": {
          "base_uri": "https://localhost:8080/"
        },
        "id": "4SFBHwdXWZLY",
        "outputId": "6ceea6e3-e038-45ae-fdab-2782d97ca95b"
      },
      "execution_count": null,
      "outputs": [
        {
          "output_type": "stream",
          "name": "stdout",
          "text": [
            "[0 1 2 3 4 5 6 7]\n",
            "[[0 1]\n",
            " [2 3]\n",
            " [4 5]\n",
            " [6 7]]\n",
            "[[0 2 4 6]\n",
            " [1 3 5 7]]\n",
            "[0 2 4 6 1 3 5 7]\n",
            "[0 2 4 6 1 3 5 7]\n",
            "[[0]\n",
            " [2]\n",
            " [4]\n",
            " [6]\n",
            " [1]\n",
            " [3]\n",
            " [5]\n",
            " [7]]\n",
            "[[0 2 4 6 1 3 5 7]]\n"
          ]
        }
      ]
    },
    {
      "cell_type": "code",
      "source": [
        "a=np.array(range(3))\n",
        "b=np.array(range(3,6))\n",
        "c=np.array(range(6,9))\n",
        "d=np.concatenate(a,c,b)\n",
        "print(d)"
      ],
      "metadata": {
        "colab": {
          "base_uri": "https://localhost:8080/",
          "height": 193
        },
        "id": "MQ56nuOWYB4e",
        "outputId": "cf08f90a-759a-4fd6-82e7-08336f97dbd8"
      },
      "execution_count": null,
      "outputs": [
        {
          "output_type": "error",
          "ename": "TypeError",
          "evalue": "only integer scalar arrays can be converted to a scalar index",
          "traceback": [
            "\u001b[0;31m---------------------------------------------------------------------------\u001b[0m",
            "\u001b[0;31mTypeError\u001b[0m                                 Traceback (most recent call last)",
            "\u001b[0;32m<ipython-input-48-7ffb7f74aeec>\u001b[0m in \u001b[0;36m<cell line: 4>\u001b[0;34m()\u001b[0m\n\u001b[1;32m      2\u001b[0m \u001b[0mb\u001b[0m\u001b[0;34m=\u001b[0m\u001b[0mnp\u001b[0m\u001b[0;34m.\u001b[0m\u001b[0marray\u001b[0m\u001b[0;34m(\u001b[0m\u001b[0mrange\u001b[0m\u001b[0;34m(\u001b[0m\u001b[0;36m3\u001b[0m\u001b[0;34m,\u001b[0m\u001b[0;36m6\u001b[0m\u001b[0;34m)\u001b[0m\u001b[0;34m)\u001b[0m\u001b[0;34m\u001b[0m\u001b[0;34m\u001b[0m\u001b[0m\n\u001b[1;32m      3\u001b[0m \u001b[0mc\u001b[0m\u001b[0;34m=\u001b[0m\u001b[0mnp\u001b[0m\u001b[0;34m.\u001b[0m\u001b[0marray\u001b[0m\u001b[0;34m(\u001b[0m\u001b[0mrange\u001b[0m\u001b[0;34m(\u001b[0m\u001b[0;36m6\u001b[0m\u001b[0;34m,\u001b[0m\u001b[0;36m9\u001b[0m\u001b[0;34m)\u001b[0m\u001b[0;34m)\u001b[0m\u001b[0;34m\u001b[0m\u001b[0;34m\u001b[0m\u001b[0m\n\u001b[0;32m----> 4\u001b[0;31m \u001b[0md\u001b[0m\u001b[0;34m=\u001b[0m\u001b[0mnp\u001b[0m\u001b[0;34m.\u001b[0m\u001b[0mconcatenate\u001b[0m\u001b[0;34m(\u001b[0m\u001b[0ma\u001b[0m\u001b[0;34m,\u001b[0m\u001b[0mc\u001b[0m\u001b[0;34m,\u001b[0m\u001b[0mb\u001b[0m\u001b[0;34m)\u001b[0m\u001b[0;34m\u001b[0m\u001b[0;34m\u001b[0m\u001b[0m\n\u001b[0m\u001b[1;32m      5\u001b[0m \u001b[0mprint\u001b[0m\u001b[0;34m(\u001b[0m\u001b[0md\u001b[0m\u001b[0;34m)\u001b[0m\u001b[0;34m\u001b[0m\u001b[0;34m\u001b[0m\u001b[0m\n",
            "\u001b[0;31mTypeError\u001b[0m: only integer scalar arrays can be converted to a scalar index"
          ]
        }
      ]
    },
    {
      "cell_type": "markdown",
      "source": [
        "# Basic numpy array operations"
      ],
      "metadata": {
        "id": "U6Rpgu3sSOjm"
      }
    },
    {
      "cell_type": "code",
      "source": [
        "a=np.array([[1,2],[3,4]]);\n",
        "a"
      ],
      "metadata": {
        "colab": {
          "base_uri": "https://localhost:8080/"
        },
        "id": "GzI4PVQeSNM8",
        "outputId": "b39d66d8-296c-4484-eb7f-b71cd6cd900b"
      },
      "execution_count": null,
      "outputs": [
        {
          "output_type": "execute_result",
          "data": {
            "text/plain": [
              "array([[1, 2],\n",
              "       [3, 4]])"
            ]
          },
          "metadata": {},
          "execution_count": 4
        }
      ]
    },
    {
      "cell_type": "code",
      "source": [
        "print(np.mean(a))"
      ],
      "metadata": {
        "colab": {
          "base_uri": "https://localhost:8080/"
        },
        "id": "nFEd7LG_SyKh",
        "outputId": "7b387449-83c4-49e1-e101-18f2b5cd9d97"
      },
      "execution_count": null,
      "outputs": [
        {
          "output_type": "stream",
          "name": "stdout",
          "text": [
            "2.5\n"
          ]
        }
      ]
    },
    {
      "cell_type": "code",
      "source": [
        "print(np.mean(a,axis=0))\n",
        "print(np.mean(a,axis=1))"
      ],
      "metadata": {
        "colab": {
          "base_uri": "https://localhost:8080/"
        },
        "id": "b_5JPRYxS7y0",
        "outputId": "80a3c9a1-f7ee-49ae-9eb3-982eb086a708"
      },
      "execution_count": null,
      "outputs": [
        {
          "output_type": "stream",
          "name": "stdout",
          "text": [
            "[2. 3.]\n",
            "[1.5 3.5]\n"
          ]
        }
      ]
    },
    {
      "cell_type": "code",
      "source": [
        "b=np.array([[11,2,6],[4,10,7]])\n",
        "b"
      ],
      "metadata": {
        "colab": {
          "base_uri": "https://localhost:8080/"
        },
        "id": "DAy7M8mPT5qz",
        "outputId": "ee539620-ca03-4c3b-bc37-21262114e1fe"
      },
      "execution_count": null,
      "outputs": [
        {
          "output_type": "execute_result",
          "data": {
            "text/plain": [
              "array([[11,  2,  6],\n",
              "       [ 4, 10,  7]])"
            ]
          },
          "metadata": {},
          "execution_count": 7
        }
      ]
    },
    {
      "cell_type": "code",
      "source": [
        "print(np.sort(b))\n",
        "print(np.sort(b,axis=0))\n",
        "print(np.sort(b,axis=1))"
      ],
      "metadata": {
        "colab": {
          "base_uri": "https://localhost:8080/"
        },
        "id": "xzHRzPbtUCt7",
        "outputId": "5ae5939b-473a-4acd-bf9e-0537aba52d19"
      },
      "execution_count": null,
      "outputs": [
        {
          "output_type": "stream",
          "name": "stdout",
          "text": [
            "[[ 2  6 11]\n",
            " [ 4  7 10]]\n",
            "[[ 4  2  6]\n",
            " [11 10  7]]\n",
            "[[ 2  6 11]\n",
            " [ 4  7 10]]\n"
          ]
        }
      ]
    },
    {
      "cell_type": "markdown",
      "source": [
        "# Matplotlib"
      ],
      "metadata": {
        "id": "N5RHfzfEWceG"
      }
    },
    {
      "cell_type": "code",
      "source": [
        "import matplotlib.pyplot as plt"
      ],
      "metadata": {
        "id": "jiRNi13fWbv5"
      },
      "execution_count": null,
      "outputs": []
    },
    {
      "cell_type": "code",
      "source": [
        "x=np.arange(1,10)\n",
        "y=x+1\n",
        "plt.plot(x,y)\n",
        "plt.show()"
      ],
      "metadata": {
        "colab": {
          "base_uri": "https://localhost:8080/",
          "height": 430
        },
        "id": "S7L7isd8WncG",
        "outputId": "36c2ac4c-e4ef-450d-f1c2-4cd4392c3d27"
      },
      "execution_count": null,
      "outputs": [
        {
          "output_type": "display_data",
          "data": {
            "text/plain": [
              "<Figure size 640x480 with 1 Axes>"
            ],
            "image/png": "[encoded data removed]"
          },
          "metadata": {}
        }
      ]
    },
    {
      "cell_type": "code",
      "source": [
        "x=np.arange(1,10)\n",
        "y=x+1\n",
        "plt.title(\"Line chart\")\n",
        "plt.xlabel(\"x-axis\")\n",
        "plt.ylabel('y-axis')\n",
        "plt.plot(x,y,linestyle='-.',color='r',marker='*')"
      ],
      "metadata": {
        "colab": {
          "base_uri": "https://localhost:8080/",
          "height": 489
        },
        "id": "5ezANjr-W1jH",
        "outputId": "e1620f36-9df1-4b5d-eb27-e5614397301c"
      },
      "execution_count": null,
      "outputs": [
        {
          "output_type": "execute_result",
          "data": {
            "text/plain": [
              "[<matplotlib.lines.Line2D at 0x7c57a3a1f640>]"
            ]
          },
          "metadata": {},
          "execution_count": 13
        },
        {
          "output_type": "display_data",
          "data": {
            "text/plain": [
              "<Figure size 640x480 with 1 Axes>"
            ],
            "image/png": "[encoded data removed]"
          },
          "metadata": {}
        }
      ]
    },
    {
      "cell_type": "code",
      "source": [],
      "metadata": {
        "id": "MYc1LO8M9guZ"
      },
      "execution_count": null,
      "outputs": []
    }
  ]
}